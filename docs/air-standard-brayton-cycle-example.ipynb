{
 "cells": [
  {
   "cell_type": "markdown",
   "metadata": {},
   "source": [
    "# Air-Standard Brayton Cycle Example\n",
    "\n",
    "## Imports"
   ]
  },
  {
   "cell_type": "code",
   "execution_count": null,
   "metadata": {},
   "outputs": [],
   "source": [
    "from thermostate import State, Q_, units\n",
    "import numpy as np\n",
    "%matplotlib inline\n",
    "import matplotlib.pyplot as plt"
   ]
  },
  {
   "cell_type": "markdown",
   "metadata": {},
   "source": [
    "---\n",
    "\n",
    "## Definitions"
   ]
  },
  {
   "cell_type": "code",
   "execution_count": null,
   "metadata": {},
   "outputs": [],
   "source": [
    "substance = 'air'\n",
    "p_1 = Q_(1.0, 'bar')\n",
    "T_1 = Q_(300.0, 'K')\n",
    "T_3 = Q_(1700.0, 'K')\n",
    "p2_p1 = Q_(8.0, 'dimensionless')\n",
    "p_low = Q_(2.0, 'dimensionless')\n",
    "p_high = Q_(50.0, 'dimensionless')"
   ]
  },
  {
   "cell_type": "markdown",
   "metadata": {},
   "source": [
    "---\n",
    "\n",
    "## Problem Statement"
   ]
  },
  {
   "cell_type": "markdown",
   "metadata": {},
   "source": [
    "An ideal air-standard Brayton cycle operates at steady state with compressor inlet conditions of 300.0 K and 1.0 bar and a fixed turbine inlet temperature of 1700.0 K and a compressor pressure ratio of 8.0. For the cycle,\n",
    "\n",
    "1. determine the net work developed per unit mass flowing, in kJ/kg\n",
    "2. determine the thermal efficiency\n",
    "3. plot the net work developed per unit mass flowing, in kJ/kg, as a function of the compressor pressure ratio from 2.0 to 50.0\n",
    "4. plot the thermal efficiency as a function of the compressor pressure ratio from 2.0 to 50.0\n",
    "5. Discuss any trends you find in parts 3 and 4"
   ]
  },
  {
   "cell_type": "markdown",
   "metadata": {},
   "source": [
    "---\n",
    "\n",
    "## Solution"
   ]
  },
  {
   "cell_type": "markdown",
   "metadata": {},
   "source": [
    "### 1. the net work developed per unit mass flowing"
   ]
  },
  {
   "cell_type": "markdown",
   "metadata": {},
   "source": [
    "In the ideal Brayton cycle, work occurs in the isentropic compression and expansion. Therefore, the works are\n",
    "\n",
    "$$\n",
    "\\begin{aligned}\n",
    "\\frac{\\dot{W}_c}{\\dot{m}} &= h_1 - h_2 & \\frac{\\dot{W}_t}{\\dot{m}} &= h_3 - h_4\n",
    "\\end{aligned}\n",
    "$$\n",
    "\n",
    "First, fixing the four states"
   ]
  },
  {
   "cell_type": "code",
   "execution_count": null,
   "metadata": {},
   "outputs": [],
   "source": [
    "st_1 = State(substance, T=T_1, p=p_1)\n",
    "h_1 = st_1.h.to('kJ/kg')\n",
    "s_1 = st_1.s.to('kJ/(kg*K)')\n",
    "\n",
    "s_2 = s_1\n",
    "p_2 = p_1*p2_p1\n",
    "st_2 = State(substance, p=p_2, s=s_2)\n",
    "h_2 = st_2.h.to('kJ/kg')\n",
    "T_2 = st_2.T\n",
    "\n",
    "p_3 = p_2\n",
    "st_3 = State(substance, p=p_3, T=T_3)\n",
    "h_3 = st_3.h.to('kJ/kg')\n",
    "s_3 = st_3.s.to('kJ/(kg*K)')\n",
    "\n",
    "s_4 = s_3\n",
    "p_4 = p_1\n",
    "st_4 = State(substance, p=p_4, s=s_4)\n",
    "h_4 = st_4.h.to('kJ/kg')\n",
    "T_4 = st_4.T"
   ]
  },
  {
   "cell_type": "markdown",
   "metadata": {},
   "source": [
    "Summarizing the states,\n",
    "\n",
    "| State |             T             |             p             |             h             |             s             |\n",
    "|-------|---------------------------|---------------------------|---------------------------|---------------------------|\n",
    "|     1 | 300.00 K | 1.00 bar | 426.30 kJ/kg | 3.89 kJ/(K kg) |\n",
    "|     2 | 540.13 K | 8.00 bar | 670.65 kJ/kg | 3.89 kJ/(K kg) |\n",
    "|     3 | 1700.00 K | 8.00 bar | 2007.09 kJ/kg | 5.19 kJ/(K kg) |\n",
    "|     4 | 1029.42 K | 1.00 bar | 1206.17 kJ/kg | 5.19 kJ/(K kg) |\n",
    "\n",
    "Then, the net work is calculated by"
   ]
  },
  {
   "cell_type": "code",
   "execution_count": null,
   "metadata": {},
   "outputs": [],
   "source": [
    "W_c = h_1 - h_2\n",
    "W_t = h_3 - h_4\n",
    "W_net = W_c + W_t"
   ]
  },
  {
   "cell_type": "markdown",
   "metadata": {},
   "source": [
    "<div class=\"alert alert-success\">\n",
    "\n",
    "**Answer:** The works are $\\dot{W}_c/\\dot{m} =$ -244.35 kJ/kg, $\\dot{W}_t/\\dot{m} =$ 800.92 kJ/kg, and $\\dot{W}_{net}/\\dot{m} =$ 556.57 kJ/kg\n",
    "\n",
    "</div>"
   ]
  },
  {
   "cell_type": "markdown",
   "metadata": {},
   "source": [
    "### 2. the thermal efficiency"
   ]
  },
  {
   "cell_type": "code",
   "execution_count": null,
   "metadata": {},
   "outputs": [],
   "source": [
    "Q_23 = h_3 - h_2\n",
    "eta = W_net/Q_23"
   ]
  },
  {
   "cell_type": "markdown",
   "metadata": {},
   "source": [
    "<div class=\"alert alert-success\">\n",
    "\n",
    "**Answer:** The thermal efficiency is $\\eta =$ 0.42 = 41.65%\n",
    "\n",
    "</div>"
   ]
  },
  {
   "cell_type": "markdown",
   "metadata": {},
   "source": [
    "### 3. and 4. plot the net work per unit mass flowing and thermal efficiency"
   ]
  },
  {
   "cell_type": "code",
   "execution_count": null,
   "metadata": {},
   "outputs": [],
   "source": [
    "p_range = np.linspace(p_low, p_high, 50)\n",
    "eta_l = np.zeros(shape=p_range.shape) * units.dimensionless\n",
    "W_net_l = np.zeros(shape=p_range.shape) * units.kJ / units.kg\n",
    "for i, p_ratio in enumerate(p_range):\n",
    "    s_2 = s_1\n",
    "    p_2 = p_1*p_ratio\n",
    "    st_2 = State(substance, p=p_2, s=s_2)\n",
    "    h_2 = st_2.h.to('kJ/kg')\n",
    "    T_2 = st_2.T\n",
    "\n",
    "    p_3 = p_2\n",
    "    st_3 = State(substance, p=p_3, T=T_3)\n",
    "    h_3 = st_3.h.to('kJ/kg')\n",
    "    s_3 = st_3.s.to('kJ/(kg*K)')\n",
    "\n",
    "    s_4 = s_3\n",
    "    p_4 = p_1\n",
    "    st_4 = State(substance, p=p_4, s=s_4)\n",
    "    h_4 = st_4.h.to('kJ/kg')\n",
    "    T_4 = st_4.T\n",
    "    \n",
    "    W_c = h_1 - h_2\n",
    "    W_t = h_3 - h_4\n",
    "    W_net = W_c + W_t\n",
    "    W_net_l[i] = W_net\n",
    "    \n",
    "    Q_23 = h_3 - h_2\n",
    "    eta = W_net/Q_23\n",
    "    eta_l[i] = eta"
   ]
  },
  {
   "cell_type": "code",
   "execution_count": null,
   "metadata": {},
   "outputs": [],
   "source": [
    "fig, work_ax = plt.subplots()\n",
    "work_ax.plot(p_range, W_net_l, label='Net work per unit mass flowing', color='C0')\n",
    "eta_ax = work_ax.twinx()\n",
    "eta_ax.plot(p_range, eta_l, label='Thermal efficiency', color='C1')\n",
    "work_ax.set_xlabel('Pressure ratio $p_2/p_1$')\n",
    "work_ax.set_ylabel('Net work per unit mass flowing (kJ/kg)')\n",
    "eta_ax.set_ylabel('Thermal efficiency')\n",
    "lines, labels = work_ax.get_legend_handles_labels()\n",
    "lines2, labels2 = eta_ax.get_legend_handles_labels()\n",
    "work_ax.legend(lines + lines2, labels + labels2, loc='best');"
   ]
  },
  {
   "cell_type": "markdown",
   "metadata": {},
   "source": [
    "We note from this graph that the thermal efficiency of the cycle increases continuously as the pressure ratio increases. However, because there is a fixed turbine inlet temperature, the work per unit mass flowing has a maximum around $p_2/p_1$ = 20."
   ]
  }
 ],
 "metadata": {
  "anaconda-cloud": {},
  "kernelspec": {
   "display_name": "Python 3",
   "language": "python",
   "name": "python3"
  },
  "language_info": {
   "codemirror_mode": {
    "name": "ipython",
    "version": 3
   },
   "file_extension": ".py",
   "mimetype": "text/x-python",
   "name": "python",
   "nbconvert_exporter": "python",
   "pygments_lexer": "ipython3",
   "version": "3.8.1"
  }
 },
 "nbformat": 4,
 "nbformat_minor": 2
}
