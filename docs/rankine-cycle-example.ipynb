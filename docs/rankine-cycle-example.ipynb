{
 "cells": [
  {
   "cell_type": "markdown",
   "metadata": {},
   "source": [
    "# Rankine Cycle Example\n",
    "\n",
    "## Imports"
   ]
  },
  {
   "cell_type": "code",
   "execution_count": null,
   "metadata": {},
   "outputs": [],
   "source": [
    "from thermostate import State, Q_, units, SystemInternational as SI\n",
    "%matplotlib inline\n",
    "import matplotlib.pyplot as plt\n",
    "import numpy as np"
   ]
  },
  {
   "cell_type": "markdown",
   "metadata": {},
   "source": [
    "---\n",
    "\n",
    "## Definitions"
   ]
  },
  {
   "cell_type": "code",
   "execution_count": null,
   "metadata": {},
   "outputs": [],
   "source": [
    "substance = 'water'\n",
    "T_1 = Q_(560.0, 'degC')\n",
    "p_1 = Q_(16.0, 'MPa')\n",
    "mdot_1 = Q_(120.0, 'kg/s')\n",
    "p_2 = Q_(1.0, 'MPa')\n",
    "p_3 = Q_(8.0, 'kPa')\n",
    "x_4 = Q_(0.0, 'percent')\n",
    "x_6 = Q_(0.0, 'percent')\n",
    "p_low = Q_(0.1, 'MPa')\n",
    "p_high = Q_(7.5, 'MPa')"
   ]
  },
  {
   "cell_type": "markdown",
   "metadata": {},
   "source": [
    "---\n",
    "\n",
    "## Problem Statement"
   ]
  },
  {
   "cell_type": "markdown",
   "metadata": {},
   "source": [
    "Water is the working fluid in an ideal regenerative Rankine cycle with one open feedwater heater. Superheated vapor enters the first-stage turbine at 16.0 MPa, 560.0 celsius with a mass flow rate of 120.0 kg/s. Steam expands through the first-stage turbine to 1.0 MPa where it is extracted and diverted to the open feedwater heater. The remainder expands through the second-stage turbine to the condenser pressure of 8.0 kPa. Saturated liquid exits the feedwater heater at 1.0 MPa. Determine\n",
    "\n",
    "1. the net power developed, in MW\n",
    "2. the rate of heat transfer to the steam passing through the boiler, in MW\n",
    "3. the overall cycle thermal efficiency\n",
    "4. For extraction pressures ($p_2$) ranging from $p_{low} =$ 0.1 MPa to $p_{high} =$ 7.5 MPa, calculate the extracted mass fraction $y$ and the overall cycle thermal efficiency. Sketch a plot of $\\eta$ (on the y-axis) vs. $y$ (on the x-axis). Use at least 10 values to construct the plot. **Discuss any trends you find.**"
   ]
  },
  {
   "cell_type": "markdown",
   "metadata": {},
   "source": [
    "---\n",
    "\n",
    "## Hint\n",
    "\n",
    "To do the plotting, we will construct a list that contains pressures from 0.1 MPa to 7.5 MPa and use a `for` loop to iterate over that list. As we do the iteration, we will fix the values for the states that have changed, and re-compute $y$ and $\\eta$ on each iteration. We will store the value for $y$ and $\\eta$ at each pressure in a list, then plot the lists. \n",
    "\n",
    "To create the list of pressures, we will use a function from the `numpy` library called `linspace` that creates a range of numbers when the start, stop, and number of values are input. If we multiply the range by the `units` that we want, it will work out. Note: Not all of the state change every time the extraction pressure is changed. You only need to recompute the states that change. The code will look something like this:\n",
    "\n",
    "```python\n",
    "y_values = []\n",
    "eta_values = []\n",
    "for p_2 in linspace(p_low, p_high, 10)*units.MPa:\n",
    "    # State 2 is definitely going to change :-)\n",
    "    st_2 = State(substance, p=p_2, s=s_2)\n",
    "    \n",
    "    # Now fix the rest of the states that have changed\n",
    "    ...\n",
    "    y = ...\n",
    "    y_values.append(y)\n",
    "    \n",
    "    Wdot_net = ...\n",
    "    Qdot_in = ...\n",
    "    eta = ...\n",
    "    eta_values.append(eta)\n",
    "    \n",
    "plt.plot(y_values, eta_values, label='eta')\n",
    "plt.legend(loc='best')\n",
    "plt.title('$\\eta$ vs. $y$')\n",
    "plt.xlabel('$y$ ($\\dot{m}_2/\\dot{m}_1$)')\n",
    "plt.ylabel('$\\eta$');\n",
    "```\n",
    "\n",
    "The syntax for the plotting function is\n",
    "\n",
    "```python\n",
    "plt.plot(x_values, y_values, label='line label name')\n",
    "```\n",
    "\n",
    "The rest of the code below the plotting is to make the plot look nicer. Feel free to copy-paste this code into your solution."
   ]
  },
  {
   "cell_type": "markdown",
   "metadata": {},
   "source": [
    "---\n",
    "\n",
    "## Solution"
   ]
  },
  {
   "cell_type": "markdown",
   "metadata": {},
   "source": [
    "### 1. the net power developed"
   ]
  },
  {
   "cell_type": "markdown",
   "metadata": {},
   "source": [
    "The first step is to fix all of the states, then calculate the value for $y$."
   ]
  },
  {
   "cell_type": "code",
   "execution_count": null,
   "metadata": {},
   "outputs": [],
   "source": [
    "# State 1\n",
    "st_1 = State(substance, T=T_1, p=p_1)\n",
    "h_1 = st_1.h.to(SI.h)\n",
    "s_1 = st_1.s.to(SI.s)\n",
    "\n",
    "# State 2\n",
    "s_2 = s_1\n",
    "st_2 = State(substance, p=p_2, s=s_2)\n",
    "h_2 = st_2.h.to(SI.h)\n",
    "T_2 = st_2.T.to(SI.T)\n",
    "x_2 = st_2.x\n",
    "\n",
    "# State 3\n",
    "s_3 = s_2\n",
    "st_3 = State(substance, p=p_3, s=s_3)\n",
    "h_3 = st_3.h.to(SI.h)\n",
    "T_3 = st_3.T.to(SI.T)\n",
    "x_3 = st_3.x\n",
    "\n",
    "# State 4\n",
    "p_4 = p_3\n",
    "st_4 = State(substance, p=p_4, x=x_4)\n",
    "h_4 = st_4.h.to(SI.h)\n",
    "s_4 = st_4.s.to(SI.s)\n",
    "T_4 = st_4.T.to(SI.T)\n",
    "\n",
    "# State 5\n",
    "p_5 = p_2\n",
    "s_5 = s_4\n",
    "st_5 = State(substance, p=p_5, s=s_5)\n",
    "h_5 = st_5.h.to(SI.h)\n",
    "T_5 = st_5.T.to(SI.T)\n",
    "\n",
    "# State 6\n",
    "p_6 = p_2\n",
    "st_6 = State(substance, p=p_6, x=x_6)\n",
    "h_6 = st_6.h.to(SI.h)\n",
    "s_6 = st_6.s.to(SI.s)\n",
    "T_6 = st_6.T.to(SI.T)\n",
    "\n",
    "# State 7\n",
    "p_7 = p_1\n",
    "s_7 = s_6\n",
    "st_7 = State(substance, p=p_7, s=s_7)\n",
    "h_7 = st_7.h.to(SI.h)\n",
    "T_7 = st_7.T.to(SI.T)\n",
    "\n",
    "y = (h_6 - h_5)/(h_2 - h_5)"
   ]
  },
  {
   "cell_type": "markdown",
   "metadata": {},
   "source": [
    "Summarizing the states:\n",
    "\n",
    "| State |               T                |               p                |               h                |               s                |               x                |     phase      |\n",
    "|-------|--------------------------------|--------------------------------|--------------------------------|--------------------------------|--------------------------------|----------------|\n",
    "|     1 | 560.00 celsius | 16.00 MPa | 3467.17 kJ/kg | 6.5163 kJ/(K kg) | ---                            | supercritical |\n",
    "|     2 | 179.88 celsius | 1.00 MPa | 2745.98 kJ/kg | 6.5163 kJ/(K kg) | 98.45% | twophase |\n",
    "|     3 | 41.51 celsius | 8.00 kPa | 2037.82 kJ/kg | 6.5163 kJ/(K kg) | 77.59% | twophase |\n",
    "|     4 | 41.51 celsius | 8.00 kPa | 173.84 kJ/kg | 0.5925 kJ/(K kg) | 0.00% pct | twophase |\n",
    "|     5 | 41.54 celsius | 1.00 MPa | 174.84 kJ/kg | 0.5925 kJ/(K kg) | ---                            | liquid |\n",
    "|     6 | 179.88 celsius | 1.00 MPa | 762.52 kJ/kg | 2.1381 kJ/(K kg) | 0.00% pct | twophase |\n",
    "|     7 | 181.95 celsius | 16.00 MPa | 779.35 kJ/kg | 2.1381 kJ/(K kg) | ---                            | liquid |\n",
    "\n",
    "\n",
    "This gives a value for $y =$ 0.2286 = 22.86% of the flow being directed into the feedwater heater. Then, the net work output of the cycle is\n",
    "\n",
    "\\begin{align*}\n",
    "\\dot{W}_{net} &= \\dot{m}_1(h_1 - h_2) + \\dot{m}_3(h_2 - h_3) + \\dot{m}_3(h_4 - h_5) + \\dot{m}_1(h_6 - h_7) \\\\\n",
    "\\dot{W}_{net} &= \\dot{m}_1\\left[(h_1 - h_2) + (1 - y)(h_2 - h_3) + (1 - y)(h_4 - h_5) + (h_6 - h_7)\\right]\n",
    "\\end{align*}"
   ]
  },
  {
   "cell_type": "code",
   "execution_count": null,
   "metadata": {},
   "outputs": [],
   "source": [
    "Wdot_net = (mdot_1*(h_1 - h_2 + (1 - y)*(h_2 - h_3) + (1 - y)*(h_4 - h_5) + (h_6 - h_7))).to('MW')"
   ]
  },
  {
   "cell_type": "markdown",
   "metadata": {},
   "source": [
    "<div class=\"alert alert-success\">\n",
    "\n",
    "**Answer:** The net work output from the cycle is $\\dot{W}_{net} =$ 149.99 MW\n",
    "\n",
    "</div>"
   ]
  },
  {
   "cell_type": "markdown",
   "metadata": {},
   "source": [
    "### 2. the heat transfer input"
   ]
  },
  {
   "cell_type": "markdown",
   "metadata": {},
   "source": [
    "The heat transfer input is\n",
    "\n",
    "$$\\dot{Q}_{in} = \\dot{m}_1(h_1 - h_7)$$"
   ]
  },
  {
   "cell_type": "code",
   "execution_count": null,
   "metadata": {},
   "outputs": [],
   "source": [
    "Qdot_in = (mdot_1*(h_1 - h_7)).to('MW')"
   ]
  },
  {
   "cell_type": "markdown",
   "metadata": {},
   "source": [
    "<div class=\"alert alert-success\">\n",
    "\n",
    "**Answer:** The heat transfer input is $\\dot{Q}_{in} =$ 322.54 MW\n",
    "\n",
    "</div>"
   ]
  },
  {
   "cell_type": "markdown",
   "metadata": {},
   "source": [
    "### 3. the overall cycle thermal efficiency"
   ]
  },
  {
   "cell_type": "code",
   "execution_count": null,
   "metadata": {},
   "outputs": [],
   "source": [
    "eta = Wdot_net/Qdot_in"
   ]
  },
  {
   "cell_type": "markdown",
   "metadata": {},
   "source": [
    "<div class=\"alert alert-success\">\n",
    "\n",
    "**Answer:** The thermal efficiency is $\\eta =$ 0.4650 = 46.50%\n",
    "\n",
    "</div>"
   ]
  },
  {
   "cell_type": "markdown",
   "metadata": {},
   "source": [
    "### 4. plot $\\eta$ vs $y$"
   ]
  },
  {
   "cell_type": "code",
   "execution_count": null,
   "metadata": {},
   "outputs": [],
   "source": [
    "p_range = np.linspace(p_low, p_high, 100)\n",
    "y_values = np.zeros(shape=p_range.shape) * units.dimensionless\n",
    "eta_values = np.zeros(shape=p_range.shape) * units.dimensionless\n",
    "for i, p_2 in enumerate(p_range):\n",
    "    # State 2\n",
    "    s_2 = s_1\n",
    "    st_2 = State(substance, p=p_2, s=s_2)\n",
    "    h_2 = st_2.h\n",
    "\n",
    "    # State 5\n",
    "    p_5 = p_2\n",
    "    s_5 = s_4\n",
    "    st_5 = State(substance, p=p_5, s=s_5)\n",
    "    h_5 = st_5.h\n",
    "\n",
    "    # State 6\n",
    "    p_6 = p_2\n",
    "    st_6 = State(substance, p=p_6, x=x_6)\n",
    "    h_6 = st_6.h\n",
    "    s_6 = st_6.s\n",
    "\n",
    "    # State 7\n",
    "    p_7 = p_1\n",
    "    s_7 = s_6\n",
    "    st_7 = State(substance, p=p_7, s=s_7)\n",
    "    h_7 = st_7.h\n",
    "    \n",
    "    y = (h_6 - h_5)/(h_2 - h_5)\n",
    "    y_values[i] = y\n",
    "\n",
    "    Wdot_net = (mdot_1*(h_1 - h_2 + (1 - y)*(h_2 - h_3) + (1 - y)*(h_4 - h_5) + (h_6 - h_7))).to('MW')\n",
    "    Qdot_in = (mdot_1*(h_1 - h_7)).to('MW')\n",
    "    eta = Wdot_net/Qdot_in\n",
    "    eta_values[i] = eta"
   ]
  },
  {
   "cell_type": "code",
   "execution_count": null,
   "metadata": {},
   "outputs": [],
   "source": [
    "plt.plot(y_values, eta_values, label='eta')\n",
    "plt.legend(loc='best')\n",
    "plt.title('$\\eta$ vs. $y$')\n",
    "plt.xlabel('$y$ ($\\dot{m}_2/\\dot{m}_1$)')\n",
    "plt.ylabel('$\\eta$');"
   ]
  },
  {
   "cell_type": "markdown",
   "metadata": {},
   "source": [
    "<div class=\"alert alert-success\">\n",
    "\n",
    "**Answer:** Interestingly, as we vary the mass flow rate extracted to the feedwater heater, the overall thermal efficiency first increases, then decreases. The reason is because the thermal efficiency is the ratio of the work divided by the heat transfer. As $y$ increases from 0.10 to 0.20, the work output decreases slightly, but the heat transfer decreases significantly. After about $y =$ 0.25, the work output decreases more quickly than the heat transfer decreases, and the thermal efficiency goes down.\n",
    "\n",
    "</div>"
   ]
  }
 ],
 "metadata": {
  "kernelspec": {
   "display_name": "Python 3",
   "language": "python",
   "name": "python3"
  },
  "language_info": {
   "codemirror_mode": {
    "name": "ipython",
    "version": 3
   },
   "file_extension": ".py",
   "mimetype": "text/x-python",
   "name": "python",
   "nbconvert_exporter": "python",
   "pygments_lexer": "ipython3",
   "version": "3.8.1"
  }
 },
 "nbformat": 4,
 "nbformat_minor": 2
}
